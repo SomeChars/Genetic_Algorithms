{
 "cells": [
  {
   "cell_type": "code",
   "execution_count": 103,
   "id": "1c9c149e-4cae-425b-b181-6138429be872",
   "metadata": {
    "tags": []
   },
   "outputs": [],
   "source": [
    "import random\n",
    "import numpy as np\n",
    "from IPython.display import clear_output"
   ]
  },
  {
   "cell_type": "code",
   "execution_count": 155,
   "id": "3d181b65-58d3-49c4-b3cc-1dfeec7c0ee6",
   "metadata": {
    "tags": []
   },
   "outputs": [],
   "source": [
    "class Alignment:\n",
    "    def __init__(self,seq_a,seq_b):\n",
    "        \n",
    "        self.seq_a = seq_a\n",
    "        self.seq_b = seq_b\n",
    "        \n",
    "        self.strip_alignment()\n",
    "        \n",
    "        try:\n",
    "            self.fitness = len([i for i in range(len(self.seq_a)) if self.seq_a[i] == self.seq_b[i]])\n",
    "        except:\n",
    "            print('!!!',self.seq_a,self.seq_b)\n",
    "\n",
    "    \n",
    "    def mutate(self):\n",
    "        nm = np.random.binomial(10,0.2)\n",
    "        return Alignment(self.add_mutations(self.seq_a,1+nm),self.add_mutations(self.seq_b,1+nm))\n",
    "    \n",
    "    \n",
    "    def recombinate(self,other):\n",
    "        i = np.random.choice([0,1])\n",
    "        if i == 0:\n",
    "            new_seq_a, new_seq_b  = self.seq_a, other.seq_b\n",
    "        else:\n",
    "            new_seq_a, new_seq_b  = other.seq_a, self.seq_b\n",
    "        \n",
    "        if len(new_seq_a) > len(new_seq_b):\n",
    "            new_seq_b = self.add_mutations(new_seq_b, len(new_seq_a) - len(new_seq_b))\n",
    "        elif len(new_seq_a) < len(new_seq_b):\n",
    "            new_seq_a = self.add_mutations(new_seq_a, len(new_seq_b) - len(new_seq_a))\n",
    "        \n",
    "        return Alignment(new_seq_a,new_seq_b)\n",
    "            \n",
    "    \n",
    "    def add_mutations(self,seq,num):\n",
    "        for i in range(num):\n",
    "            j = random.randint(0,len(seq)-1) \n",
    "            new_seq = seq[:j] + '-' + seq[j:]\n",
    "        return new_seq\n",
    "    \n",
    "    \n",
    "    def strip_alignment(self):    \n",
    "        while True:\n",
    "            flag = True\n",
    "            for i in range(len(self.seq_a)):\n",
    "                if self.seq_a[i] == '-' and self.seq_b[i] == '-':\n",
    "                    self.seq_a = self.seq_a[:i] + self.seq_a[i+1:]\n",
    "                    self.seq_b = self.seq_b[:i] + self.seq_b[i+1:]\n",
    "                    flag = False\n",
    "                    break\n",
    "            if flag:\n",
    "                break\n",
    "    \n",
    "            \n",
    "    def show(self):\n",
    "        l = ''\n",
    "        for i in range(len(self.seq_a)):\n",
    "            l += '|' if self.seq_a[i] != '-' and self.seq_a[i] == self.seq_b[i] else ' ' \n",
    "        print(self.seq_a)\n",
    "        print(l)\n",
    "        print(self.seq_b)"
   ]
  },
  {
   "cell_type": "code",
   "execution_count": 123,
   "id": "67ca676b-a552-43eb-a12c-743b47bfb4eb",
   "metadata": {
    "tags": []
   },
   "outputs": [],
   "source": [
    "def genetic_pariwise(seq_a,seq_b,generations,pop_size,keep_size,mr=0.9):\n",
    "    \n",
    "    pop = np.array([Alignment(seq_a,seq_b) for i in range(pop_size)])\n",
    "    indexes = [i for i in range(keep_size)]\n",
    "    probs = np.array([1/i for i in range(1,keep_size+1)])/np.sum([1/i for i in range(1,keep_size+1)])\n",
    "    \n",
    "    for i in range(generations):\n",
    "        \n",
    "        pop = sorted(pop,key = lambda x: x.fitness, reverse = True)\n",
    "        pop = pop[:keep_size]\n",
    "        \n",
    "        for j in range(pop_size - keep_size):\n",
    "            rv = random.random()\n",
    "            if rv < mr:\n",
    "                new_pop = pop[np.random.choice(indexes,p=probs)].mutate()\n",
    "                pop = np.append(pop,new_pop)\n",
    "            else:\n",
    "                new_pop = pop[np.random.choice(indexes,p=probs)].recombinate(pop[np.random.choice(indexes,p=probs)])\n",
    "                pop = np.append(pop,new_pop)\n",
    "        \n",
    "        clear_output(wait = True)\n",
    "        print(pop[0].fitness)\n",
    "        pop[0].show()\n",
    "    \n",
    "    return pop[0]"
   ]
  },
  {
   "cell_type": "code",
   "execution_count": 160,
   "id": "d1a45f0f-eeb6-44ef-a927-eb6149a31a47",
   "metadata": {
    "tags": []
   },
   "outputs": [
    {
     "name": "stdout",
     "output_type": "stream",
     "text": [
      "4\n",
      "banan-a\n",
      " ||||  \n",
      "-ananas\n"
     ]
    }
   ],
   "source": [
    "al = genetic_pariwise('banana','ananas',100,100,90)"
   ]
  }
 ],
 "metadata": {
  "kernelspec": {
   "display_name": "Python 3 (ipykernel)",
   "language": "python",
   "name": "python3"
  },
  "language_info": {
   "codemirror_mode": {
    "name": "ipython",
    "version": 3
   },
   "file_extension": ".py",
   "mimetype": "text/x-python",
   "name": "python",
   "nbconvert_exporter": "python",
   "pygments_lexer": "ipython3",
   "version": "3.11.3"
  }
 },
 "nbformat": 4,
 "nbformat_minor": 5
}
