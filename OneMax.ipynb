{
 "cells": [
  {
   "cell_type": "code",
   "execution_count": 3,
   "id": "bc4254a8-de27-49a8-b684-698a60534207",
   "metadata": {
    "tags": []
   },
   "outputs": [],
   "source": [
    "import time\n",
    "from IPython.display import clear_output\n",
    "import random\n",
    "import matplotlib.pyplot as plt\n",
    "import numpy as np"
   ]
  },
  {
   "cell_type": "code",
   "execution_count": 4,
   "id": "b7403c0b-b732-45bb-8059-01b18e0b736b",
   "metadata": {
    "tags": []
   },
   "outputs": [],
   "source": [
    "class OneMax:\n",
    "    def __init__(self,target_sequence,dna=''):\n",
    "        \n",
    "        self.letters = '01'\n",
    "        self.target_sequence = target_sequence\n",
    "        self.length = len(target_sequence)\n",
    "        \n",
    "        #переписать понятнее\n",
    "        if dna != '':\n",
    "            self.dna = dna\n",
    "        else:\n",
    "            self.dna = ''.join([self.letters[random.randint(0,1)] for i in range(self.length)])\n",
    "        \n",
    "        self.fitness = len([self.dna[i] for i in range(self.length) if self.dna[i]==target_sequence[i]])\n",
    "    \n",
    "\n",
    "    def mutate(self):\n",
    "        #переписать понятнее\n",
    "        pos = np.random.randint(0,self.length)\n",
    "        #print(pos)\n",
    "        # if self.sequence[pos]=='0':\n",
    "        #     self.sequence=self.sequence[:pos]+'1'+self.sequence[pos:]\n",
    "        # else:\n",
    "        #     self.sequence=self.sequence[:pos]+'0'+self.sequence[pos:]\n",
    "        #или\n",
    "         \n",
    "        dna = self.dna[:pos]+'1'+self.dna[pos+1:] if self.dna[pos] == '0' else self.dna[:pos]+'0'+self.dna[pos+1:]\n",
    "        return OneMax(self.target_sequence,dna)\n",
    "        \n",
    "        \n",
    "    def recombinate(self,other):\n",
    "        a = np.random.randint(0,self.length)\n",
    "        l = list(range(self.length))\n",
    "        l.remove(a)\n",
    "        b = np.random.choice(l)\n",
    "        a,b = tuple(sorted([a,b]))\n",
    "    \n",
    "        dna = self.dna[:a]+other.dna[a:b]+self.dna[b:]\n",
    "        return OneMax(self.target_sequence,dna)"
   ]
  },
  {
   "cell_type": "code",
   "execution_count": 41,
   "id": "6d58e306-6768-41ba-92ac-ab0efa485c00",
   "metadata": {
    "tags": []
   },
   "outputs": [],
   "source": [
    "def search_seq(target_sequence,pop_size,keep_size,spawn_size,mr=0.5,rr=0.1):\n",
    "    \n",
    "    # создаём начальную популяцию\n",
    "    pop = np.array([OneMax(target_sequence) for i in range(pop_size)],dtype='object')\n",
    "    \n",
    "    history = np.empty((0,2,pop_size),dtype='object')\n",
    "    \n",
    "    # цикл обучения\n",
    "    while(True):\n",
    "        \n",
    "        # спавн случайных точек\n",
    "        spawn = [OneMax(target_sequence) for i in range(spawn_size)]\n",
    "        pop = np.append(pop,spawn)\n",
    "        \n",
    "        # мутации и рекомбинации\n",
    "        for j in range(pop_size+spawn_size):\n",
    "            if np.random.random() < mr:\n",
    "                new_pop = pop[j].mutate()\n",
    "                pop = np.append(pop,new_pop) \n",
    "            if np.random.random() < rr:\n",
    "                new_pop = pop[j].recombinate(pop[np.random.randint(pop_size+spawn_size)])\n",
    "                pop = np.append(pop,new_pop)\n",
    "        \n",
    "        # отбор по fitness\n",
    "        pop = sorted(pop,key = lambda x: x.fitness,reverse=True)\n",
    "        pop=pop[:keep_size]\n",
    "        \n",
    "        # размножение оставшихся\n",
    "        if pop_size-keep_size > 0 and i > 3:\n",
    "            pop = np.append(pop,np.random.choice(a=pop,size=pop_size-keep_size))\n",
    "        \n",
    "        history = np.append(history,[[[p.fitness for p in pop],pop]],axis=0)\n",
    "        \n",
    "        clear_output(wait = True)\n",
    "        time.sleep(0.01)\n",
    "        if len(history) > 1:\n",
    "            l=''.join(['-' if history[-1,1,0].dna[i] == history[-2,1,0].dna[i] else '+' for i in range(len(target_sequence))])\n",
    "            plt.title(history[-1,1,0].dna+'\\n'+l,{'fontsize': 12})\n",
    "        plt.plot(history[:,0,0])\n",
    "        plt.show()\n",
    "        # print(history[-1,1,0].dna)\n",
    "        if history[-1,1,0].fitness == len(target_sequence): break\n",
    "        \n",
    "    \n",
    "    # fig1, ax1 = plt.subplots()\n",
    "    # ax1.plot(history[:,0,0])\n",
    "    # plt.show()\n",
    "    return history"
   ]
  },
  {
   "cell_type": "code",
   "execution_count": 45,
   "id": "65554667-ce8d-43c8-986b-21d4942ce8d5",
   "metadata": {
    "tags": []
   },
   "outputs": [
    {
     "data": {
      "image/png": "[encoded data removed]",
      "text/plain": [
       "<Figure size 640x480 with 1 Axes>"
      ]
     },
     "metadata": {},
     "output_type": "display_data"
    }
   ],
   "source": [
    "h=search_seq('1'*50,20,20,0)"
   ]
  },
  {
   "cell_type": "code",
   "execution_count": 46,
   "id": "a4676341-67bc-41d0-a517-f60ef2104997",
   "metadata": {
    "tags": []
   },
   "outputs": [],
   "source": [
    "import random"
   ]
  }
 ],
 "metadata": {
  "kernelspec": {
   "display_name": "Python 3 (ipykernel)",
   "language": "python",
   "name": "python3"
  },
  "language_info": {
   "codemirror_mode": {
    "name": "ipython",
    "version": 3
   },
   "file_extension": ".py",
   "mimetype": "text/x-python",
   "name": "python",
   "nbconvert_exporter": "python",
   "pygments_lexer": "ipython3",
   "version": "3.11.3"
  }
 },
 "nbformat": 4,
 "nbformat_minor": 5
}
