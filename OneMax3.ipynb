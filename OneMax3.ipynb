{
 "cells": [
  {
   "cell_type": "code",
   "execution_count": 2,
   "id": "bc4254a8-de27-49a8-b684-698a60534207",
   "metadata": {
    "tags": []
   },
   "outputs": [],
   "source": [
    "import time\n",
    "from IPython.display import clear_output\n",
    "import random\n",
    "import matplotlib.pyplot as plt\n",
    "import numpy as np"
   ]
  },
  {
   "cell_type": "code",
   "execution_count": 8,
   "id": "b7403c0b-b732-45bb-8059-01b18e0b736b",
   "metadata": {
    "tags": []
   },
   "outputs": [],
   "source": [
    "class OneMax:\n",
    "    def __init__(self,target_sequence,dna=''):\n",
    "        \n",
    "        self.letters = '12345'\n",
    "        self.target_sequence = target_sequence\n",
    "        self.length = len(target_sequence)\n",
    "        \n",
    "        #переписать понятнее\n",
    "        if dna != '':\n",
    "            self.dna = dna\n",
    "        else:\n",
    "            self.dna = ''.join([self.letters[random.randint(0,len(self.letters)-1)] for i in range(self.length)])\n",
    "        \n",
    "        t = time.time()\n",
    "        for j in range(50000):\n",
    "            for i in range(self.length):\n",
    "                if self.dna[i] != target_sequence[i]:\n",
    "                    break\n",
    "        \n",
    "        \n",
    "        self.fitness = time.time() - t\n",
    "    \n",
    "\n",
    "    def mutate(self):\n",
    "        #переписать понятнее\n",
    "        pos = np.random.randint(0,self.length)\n",
    "        #print(pos)\n",
    "        # if self.sequence[pos]=='0':\n",
    "        #     self.sequence=self.sequence[:pos]+'1'+self.sequence[pos:]\n",
    "        # else:\n",
    "        #     self.sequence=self.sequence[:pos]+'0'+self.sequence[pos:]\n",
    "        #или\n",
    "         \n",
    "        dna = self.dna[:pos]+self.letters[random.randint(0,len(self.letters)-1)]+self.dna[pos+1:]\n",
    "        return OneMax(self.target_sequence,dna)\n",
    "        \n",
    "        \n",
    "    def recombinate(self,other):\n",
    "        a = np.random.randint(0,self.length)\n",
    "        l = list(range(self.length))\n",
    "        l.remove(a)\n",
    "        b = np.random.choice(l)\n",
    "        a,b = tuple(sorted([a,b]))\n",
    "    \n",
    "        dna = self.dna[:a]+other.dna[a:b]+self.dna[b:]\n",
    "        return OneMax(self.target_sequence,dna)"
   ]
  },
  {
   "cell_type": "code",
   "execution_count": 9,
   "id": "6d58e306-6768-41ba-92ac-ab0efa485c00",
   "metadata": {
    "tags": []
   },
   "outputs": [],
   "source": [
    "def search_seq(target_sequence,pop_size,keep_size,spawn_size,mr=0.5,rr=0.1):\n",
    "    \n",
    "    # создаём начальную популяцию\n",
    "    pop = np.array([OneMax(target_sequence) for i in range(pop_size)],dtype='object')\n",
    "    \n",
    "    history = np.empty((0,2,pop_size),dtype='object')\n",
    "    \n",
    "    # цикл обучения\n",
    "    while(True):\n",
    "        \n",
    "        # спавн случайных точек\n",
    "        spawn = [OneMax(target_sequence) for i in range(spawn_size)]\n",
    "        pop = np.append(pop,spawn)\n",
    "        \n",
    "        # мутации и рекомбинации\n",
    "        for j in range(pop_size+spawn_size):\n",
    "            if np.random.random() < mr:\n",
    "                new_pop = pop[j].mutate()\n",
    "                pop = np.append(pop,new_pop) \n",
    "            if np.random.random() < rr:\n",
    "                new_pop = pop[j].recombinate(pop[np.random.randint(pop_size+spawn_size)])\n",
    "                pop = np.append(pop,new_pop)\n",
    "        \n",
    "        # отбор по fitness\n",
    "        pop = sorted(pop,key = lambda x: x.fitness,reverse=True)\n",
    "        pop=pop[:keep_size]\n",
    "        \n",
    "        # размножение оставшихся\n",
    "        if pop_size-keep_size > 0:\n",
    "            pop = np.append(pop,np.random.choice(a=pop,size=pop_size-keep_size))\n",
    "        \n",
    "        history = np.append(history,[[[p.fitness for p in pop],pop]],axis=0)\n",
    "        \n",
    "        clear_output(wait = True)\n",
    "        time.sleep(0.01)\n",
    "        if len(history) > 1:\n",
    "            #l=''.join(['-' if history[-1,1,0].dna[i] == history[-2,1,0].dna[i] else '+' for i in range(len(target_sequence))])\n",
    "            #plt.title(history[-1,1,0].dna+'\\n'+l,{'fontsize': 12})\n",
    "        #plt.plot(history[:,0,0])\n",
    "        #plt.show()\n",
    "            print(len(history),history[-1,1,0].dna)\n",
    "        if history[-1,1,0].fitness == len(target_sequence): break\n",
    "        \n",
    "    \n",
    "    # fig1, ax1 = plt.subplots()\n",
    "    # ax1.plot(history[:,0,0])\n",
    "    # plt.show()\n",
    "    return history"
   ]
  },
  {
   "cell_type": "code",
   "execution_count": 10,
   "id": "65554667-ce8d-43c8-986b-21d4942ce8d5",
   "metadata": {
    "tags": []
   },
   "outputs": [
    {
     "name": "stdout",
     "output_type": "stream",
     "text": [
      "79 42313111\n"
     ]
    },
    {
     "ename": "KeyboardInterrupt",
     "evalue": "",
     "output_type": "error",
     "traceback": [
      "\u001b[1;31m---------------------------------------------------------------------------\u001b[0m",
      "\u001b[1;31mKeyboardInterrupt\u001b[0m                         Traceback (most recent call last)",
      "Cell \u001b[1;32mIn[10], line 1\u001b[0m\n\u001b[1;32m----> 1\u001b[0m h\u001b[38;5;241m=\u001b[39m\u001b[43msearch_seq\u001b[49m\u001b[43m(\u001b[49m\u001b[38;5;124;43m'\u001b[39;49m\u001b[38;5;124;43m12345123\u001b[39;49m\u001b[38;5;124;43m'\u001b[39;49m\u001b[43m,\u001b[49m\u001b[38;5;241;43m50\u001b[39;49m\u001b[43m,\u001b[49m\u001b[38;5;241;43m40\u001b[39;49m\u001b[43m,\u001b[49m\u001b[38;5;241;43m5\u001b[39;49m\u001b[43m,\u001b[49m\u001b[38;5;241;43m0.5\u001b[39;49m\u001b[43m)\u001b[49m\n",
      "Cell \u001b[1;32mIn[9], line 18\u001b[0m, in \u001b[0;36msearch_seq\u001b[1;34m(target_sequence, pop_size, keep_size, spawn_size, mr, rr)\u001b[0m\n\u001b[0;32m     16\u001b[0m \u001b[38;5;28;01mfor\u001b[39;00m j \u001b[38;5;129;01min\u001b[39;00m \u001b[38;5;28mrange\u001b[39m(pop_size\u001b[38;5;241m+\u001b[39mspawn_size):\n\u001b[0;32m     17\u001b[0m     \u001b[38;5;28;01mif\u001b[39;00m np\u001b[38;5;241m.\u001b[39mrandom\u001b[38;5;241m.\u001b[39mrandom() \u001b[38;5;241m<\u001b[39m mr:\n\u001b[1;32m---> 18\u001b[0m         new_pop \u001b[38;5;241m=\u001b[39m \u001b[43mpop\u001b[49m\u001b[43m[\u001b[49m\u001b[43mj\u001b[49m\u001b[43m]\u001b[49m\u001b[38;5;241;43m.\u001b[39;49m\u001b[43mmutate\u001b[49m\u001b[43m(\u001b[49m\u001b[43m)\u001b[49m\n\u001b[0;32m     19\u001b[0m         pop \u001b[38;5;241m=\u001b[39m np\u001b[38;5;241m.\u001b[39mappend(pop,new_pop) \n\u001b[0;32m     20\u001b[0m     \u001b[38;5;28;01mif\u001b[39;00m np\u001b[38;5;241m.\u001b[39mrandom\u001b[38;5;241m.\u001b[39mrandom() \u001b[38;5;241m<\u001b[39m rr:\n",
      "Cell \u001b[1;32mIn[8], line 35\u001b[0m, in \u001b[0;36mOneMax.mutate\u001b[1;34m(self)\u001b[0m\n\u001b[0;32m     27\u001b[0m \u001b[38;5;66;03m#print(pos)\u001b[39;00m\n\u001b[0;32m     28\u001b[0m \u001b[38;5;66;03m# if self.sequence[pos]=='0':\u001b[39;00m\n\u001b[0;32m     29\u001b[0m \u001b[38;5;66;03m#     self.sequence=self.sequence[:pos]+'1'+self.sequence[pos:]\u001b[39;00m\n\u001b[0;32m     30\u001b[0m \u001b[38;5;66;03m# else:\u001b[39;00m\n\u001b[0;32m     31\u001b[0m \u001b[38;5;66;03m#     self.sequence=self.sequence[:pos]+'0'+self.sequence[pos:]\u001b[39;00m\n\u001b[0;32m     32\u001b[0m \u001b[38;5;66;03m#или\u001b[39;00m\n\u001b[0;32m     34\u001b[0m dna \u001b[38;5;241m=\u001b[39m \u001b[38;5;28mself\u001b[39m\u001b[38;5;241m.\u001b[39mdna[:pos]\u001b[38;5;241m+\u001b[39m\u001b[38;5;28mself\u001b[39m\u001b[38;5;241m.\u001b[39mletters[random\u001b[38;5;241m.\u001b[39mrandint(\u001b[38;5;241m0\u001b[39m,\u001b[38;5;28mlen\u001b[39m(\u001b[38;5;28mself\u001b[39m\u001b[38;5;241m.\u001b[39mletters)\u001b[38;5;241m-\u001b[39m\u001b[38;5;241m1\u001b[39m)]\u001b[38;5;241m+\u001b[39m\u001b[38;5;28mself\u001b[39m\u001b[38;5;241m.\u001b[39mdna[pos\u001b[38;5;241m+\u001b[39m\u001b[38;5;241m1\u001b[39m:]\n\u001b[1;32m---> 35\u001b[0m \u001b[38;5;28;01mreturn\u001b[39;00m \u001b[43mOneMax\u001b[49m\u001b[43m(\u001b[49m\u001b[38;5;28;43mself\u001b[39;49m\u001b[38;5;241;43m.\u001b[39;49m\u001b[43mtarget_sequence\u001b[49m\u001b[43m,\u001b[49m\u001b[43mdna\u001b[49m\u001b[43m)\u001b[49m\n",
      "Cell \u001b[1;32mIn[8], line 16\u001b[0m, in \u001b[0;36mOneMax.__init__\u001b[1;34m(self, target_sequence, dna)\u001b[0m\n\u001b[0;32m     14\u001b[0m t \u001b[38;5;241m=\u001b[39m time\u001b[38;5;241m.\u001b[39mtime()\n\u001b[0;32m     15\u001b[0m \u001b[38;5;28;01mfor\u001b[39;00m j \u001b[38;5;129;01min\u001b[39;00m \u001b[38;5;28mrange\u001b[39m(\u001b[38;5;241m50000\u001b[39m):\n\u001b[1;32m---> 16\u001b[0m     \u001b[38;5;28;01mfor\u001b[39;00m i \u001b[38;5;129;01min\u001b[39;00m \u001b[38;5;28mrange\u001b[39m(\u001b[38;5;28mself\u001b[39m\u001b[38;5;241m.\u001b[39mlength):\n\u001b[0;32m     17\u001b[0m         \u001b[38;5;28;01mif\u001b[39;00m \u001b[38;5;28mself\u001b[39m\u001b[38;5;241m.\u001b[39mdna[i] \u001b[38;5;241m!=\u001b[39m target_sequence[i]:\n\u001b[0;32m     18\u001b[0m             \u001b[38;5;28;01mbreak\u001b[39;00m\n",
      "\u001b[1;31mKeyboardInterrupt\u001b[0m: "
     ]
    }
   ],
   "source": [
    "h=search_seq('12345123',50,40,5,0.5)"
   ]
  },
  {
   "cell_type": "code",
   "execution_count": 46,
   "id": "a4676341-67bc-41d0-a517-f60ef2104997",
   "metadata": {
    "tags": []
   },
   "outputs": [],
   "source": [
    "import random"
   ]
  }
 ],
 "metadata": {
  "kernelspec": {
   "display_name": "Python 3 (ipykernel)",
   "language": "python",
   "name": "python3"
  },
  "language_info": {
   "codemirror_mode": {
    "name": "ipython",
    "version": 3
   },
   "file_extension": ".py",
   "mimetype": "text/x-python",
   "name": "python",
   "nbconvert_exporter": "python",
   "pygments_lexer": "ipython3",
   "version": "3.11.3"
  }
 },
 "nbformat": 4,
 "nbformat_minor": 5
}
